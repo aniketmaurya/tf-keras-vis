{
 "cells": [
  {
   "cell_type": "markdown",
   "metadata": {},
   "source": [
    "[![Open In Colab](https://colab.research.google.com/assets/colab-badge.svg)](https://colab.research.google.com/github/keisen/tf-keras-vis/blob/master/examples/visualize_dense_layer.ipynb)"
   ]
  },
  {
   "cell_type": "markdown",
   "metadata": {},
   "source": [
    "# Visualizing Dense layer using ActivationMaximization"
   ]
  },
  {
   "cell_type": "markdown",
   "metadata": {},
   "source": [
    "## Preparation\n",
    "\n",
    "### Install libraries\n",
    "\n",
    "At first, when you didn't yet installed `tf-keras-vis` in your environment such Google Colab, please run the cell below."
   ]
  },
  {
   "cell_type": "code",
   "execution_count": null,
   "metadata": {},
   "outputs": [],
   "source": [
    "!pip install --upgrade pip\n",
    "!pip install --upgrade tf-keras-vis tensorflow matplotlib"
   ]
  },
  {
   "cell_type": "markdown",
   "metadata": {},
   "source": [
    "### Load libraries"
   ]
  },
  {
   "cell_type": "code",
   "execution_count": null,
   "metadata": {},
   "outputs": [],
   "source": [
    "%reload_ext autoreload\n",
    "%autoreload 2\n",
    "\n",
    "import numpy as np\n",
    "from matplotlib import pyplot as plt\n",
    "%matplotlib inline\n",
    "\n",
    "import tensorflow as tf\n",
    "from tf_keras_vis.utils import num_of_gpus\n",
    "\n",
    "_, gpus = num_of_gpus()\n",
    "print('Tensorflow recognized {} GPUs'.format(gpus))"
   ]
  },
  {
   "cell_type": "markdown",
   "metadata": {},
   "source": [
    "### Load tf.keras.Model\n",
    "\n",
    "This tutorial use VGG16 model in tf.keras but if you want to use other tf.keras.Models, you can do so by modifying section below."
   ]
  },
  {
   "cell_type": "code",
   "execution_count": null,
   "metadata": {},
   "outputs": [],
   "source": [
    "from tensorflow.keras.applications.vgg16 import VGG16 as Model\n",
    "\n",
    "# Load model\n",
    "model = Model(weights='imagenet', include_top=True)\n",
    "model.summary()"
   ]
  },
  {
   "cell_type": "markdown",
   "metadata": {},
   "source": [
    "## Visualizing a specific output category\n",
    "\n",
    "### Define a function to modify the model\n",
    "\n",
    "First, when the softmax activation function is applied to the last layer of model, it may obstruct ActivationMaximization, so you need to replace the function to a linear function. Here, we will do so using `model_modifier`."
   ]
  },
  {
   "cell_type": "code",
   "execution_count": null,
   "metadata": {},
   "outputs": [],
   "source": [
    "def model_modifier(cloned_model):\n",
    "    cloned_model.layers[-1].activation = tf.keras.activations.linear\n",
    "    return cloned_model"
   ]
  },
  {
   "cell_type": "markdown",
   "metadata": {},
   "source": [
    "### Create ActivationMaximization Instnace\n",
    "\n",
    "When `clone` argument is True(default), the `model` will be cloned, so the `model` instance will be NOT modified, but it may take a while.\n",
    "Here, because it does NOT need to do so, setting False."
   ]
  },
  {
   "cell_type": "code",
   "execution_count": null,
   "metadata": {},
   "outputs": [],
   "source": [
    "from tf_keras_vis.activation_maximization import ActivationMaximization\n",
    "\n",
    "activation_maximization = ActivationMaximization(model,\n",
    "                                                 model_modifier,\n",
    "                                                 clone=False)"
   ]
  },
  {
   "cell_type": "markdown",
   "metadata": {},
   "source": [
    "### Define Score function\n",
    "\n",
    "You MUST define `score` function that return arbitrary category value. Here, we try to visualize a category as defined No.20 (ouzel) of imagenet."
   ]
  },
  {
   "cell_type": "code",
   "execution_count": null,
   "metadata": {},
   "outputs": [],
   "source": [
    "from tf_keras_vis.utils.scores import CategoricalScore\n",
    "\n",
    "score = CategoricalScore(20)\n",
    "\n",
    "# Instead of CategoricalScore function object, you can define the scratch function such as below:\n",
    "def score_function(output):\n",
    "    # The `output` variable refer to the output of the model,\n",
    "    # so, in this case, `output` shape is `(3, 1000)` i.e., (samples, classes).\n",
    "    return output[:, 20]"
   ]
  },
  {
   "cell_type": "markdown",
   "metadata": {},
   "source": [
    "### Visualize\n",
    "\n",
    "ActivationMaximization will maximize the model output value that is computed by the score function. Here, we try to visualize a convolutional filter."
   ]
  },
  {
   "cell_type": "code",
   "execution_count": null,
   "metadata": {},
   "outputs": [],
   "source": [
    "%%time\n",
    "from tf_keras_vis.activation_maximization.callbacks import PrintLogger\n",
    "\n",
    "activations = activation_maximization(score,\n",
    "                                      callbacks=[PrintLogger(interval=50)])\n",
    "\n",
    "subplot_args = { 'nrows': 1, 'ncols': 1, 'figsize': (4, 4),\n",
    "                 'subplot_kw': {'xticks': [], 'yticks': []} }\n",
    "f, ax = plt.subplots(**subplot_args)\n",
    "ax.imshow(activations[0])\n",
    "ax.set_title('Ouzel', fontsize=14)\n",
    "plt.tight_layout()\n",
    "plt.show()"
   ]
  },
  {
   "cell_type": "markdown",
   "metadata": {},
   "source": [
    "## Visualizing specific output categories\n",
    "\n",
    "Then, let's visualize multiple categories at once!"
   ]
  },
  {
   "cell_type": "markdown",
   "metadata": {},
   "source": [
    "### Define Loss function\n",
    "\n",
    "You MUST define loss function that return arbitrary category values. Here, we try to visualize categories as defined No.1 (Goldfish), No.294 (Bear) and No.413 (Assault rifle) of imagenet.\n",
    "Here, we use `SmoothedCategoricalScore` that add noise to score to smooth score funtion and then accomplish getting clear image."
   ]
  },
  {
   "cell_type": "code",
   "execution_count": null,
   "metadata": {},
   "outputs": [],
   "source": [
    "from tf_keras_vis.utils.scores import SmoothedCategoricalScore\n",
    "\n",
    "image_titles = ['Goldfish', 'Bear', 'Assault rifle']\n",
    "scores = SmoothedCategoricalScore([1, 294, 413])"
   ]
  },
  {
   "cell_type": "markdown",
   "metadata": {},
   "source": [
    "### Create SeedInput values\n",
    "\n",
    "And then, beforehand, you MUST create seed-input value. In default, when visualizing a specific output category, tf-keras-vis automatically generate seed-input to visualize a image. When visualizing multiple output categories, you MUST manually create seed-inputs whose samples-dim is as many as the number of the filters you want to generate."
   ]
  },
  {
   "cell_type": "code",
   "execution_count": null,
   "metadata": {},
   "outputs": [],
   "source": [
    "# Create seed inputs whose shape is (samples, height, width, channels).\n",
    "\n",
    "seed_input = tf.random.uniform((3, 224, 224, 3), -1., 1.)"
   ]
  },
  {
   "cell_type": "markdown",
   "metadata": {},
   "source": [
    "### Visualize\n",
    "\n",
    "Here, we will visualize 3 images while `steps` option is to be 512 to get clear images."
   ]
  },
  {
   "cell_type": "code",
   "execution_count": null,
   "metadata": {},
   "outputs": [],
   "source": [
    "%%time\n",
    "\n",
    "# Generate max activation\n",
    "activations = activation_maximization(scores,\n",
    "                                      seed_input=seed_input,\n",
    "                                      steps=512,\n",
    "                                      callbacks=[ PrintLogger(interval=50)])\n",
    "\n",
    "# Render\n",
    "subplot_args = { 'nrows': 1, 'ncols': 3, 'figsize': (12, 4),\n",
    "                 'subplot_kw': {'xticks': [], 'yticks': []} }\n",
    "f, ax = plt.subplots(**subplot_args)\n",
    "for i, title in enumerate(image_titles):\n",
    "    ax[i].set_title(title, fontsize=14)\n",
    "    ax[i].imshow(activations[i])\n",
    "plt.tight_layout()\n",
    "plt.savefig('images/visualize-dense-layer')\n",
    "plt.show()"
   ]
  }
 ],
 "metadata": {
  "kernelspec": {
   "display_name": "Python 3",
   "language": "python",
   "name": "python3"
  },
  "language_info": {
   "codemirror_mode": {
    "name": "ipython",
    "version": 3
   },
   "file_extension": ".py",
   "mimetype": "text/x-python",
   "name": "python",
   "nbconvert_exporter": "python",
   "pygments_lexer": "ipython3",
   "version": "3.7.7"
  }
 },
 "nbformat": 4,
 "nbformat_minor": 4
}
